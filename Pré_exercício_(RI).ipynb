{
  "nbformat": 4,
  "nbformat_minor": 0,
  "metadata": {
    "colab": {
      "name": "Pré-exercício (RI).ipynb",
      "provenance": [],
      "collapsed_sections": [
        "oAbZJ9HhK4e1",
        "xEHoxFrhL0Kt",
        "SHJOK5ZpNdxL"
      ],
      "authorship_tag": "ABX9TyMEdg9/2jRenaH2RL1m0Y7H",
      "include_colab_link": true
    },
    "kernelspec": {
      "name": "python3",
      "display_name": "Python 3"
    },
    "language_info": {
      "name": "python"
    }
  },
  "cells": [
    {
      "cell_type": "markdown",
      "metadata": {
        "id": "view-in-github",
        "colab_type": "text"
      },
      "source": [
        "<a href=\"https://colab.research.google.com/github/RenanSiman/RI/blob/main/Pr%C3%A9_exerc%C3%ADcio_(RI).ipynb\" target=\"_parent\"><img src=\"https://colab.research.google.com/assets/colab-badge.svg\" alt=\"Open In Colab\"/></a>"
      ]
    },
    {
      "cell_type": "markdown",
      "metadata": {
        "id": "oAbZJ9HhK4e1"
      },
      "source": [
        "### Questão 1\n",
        "maior(a,b): Retorna o maior valor entre a e b"
      ]
    },
    {
      "cell_type": "code",
      "metadata": {
        "id": "RxPqd48JKl6N"
      },
      "source": [
        "def maior(a,b) -> int:\n",
        "  if a>b:\n",
        "    return a\n",
        "  elif a<b:\n",
        "    return b\n",
        "  else:\n",
        "    return \"a e b são iguais\""
      ],
      "execution_count": null,
      "outputs": []
    },
    {
      "cell_type": "code",
      "metadata": {
        "colab": {
          "base_uri": "https://localhost:8080/"
        },
        "id": "ebkSUhgKvOl4",
        "outputId": "636f03ad-5c60-4735-8779-c8ffecf0f5d0"
      },
      "source": [
        "maior(2,4)"
      ],
      "execution_count": null,
      "outputs": [
        {
          "output_type": "execute_result",
          "data": {
            "text/plain": [
              "4"
            ]
          },
          "metadata": {
            "tags": []
          },
          "execution_count": 2
        }
      ]
    },
    {
      "cell_type": "code",
      "metadata": {
        "colab": {
          "base_uri": "https://localhost:8080/"
        },
        "id": "o2d8hUt6u-f2",
        "outputId": "3813a173-f28f-45b2-a549-3538d3fb4588"
      },
      "source": [
        "maior(6,2)"
      ],
      "execution_count": null,
      "outputs": [
        {
          "output_type": "execute_result",
          "data": {
            "text/plain": [
              "6"
            ]
          },
          "metadata": {
            "tags": []
          },
          "execution_count": 3
        }
      ]
    },
    {
      "cell_type": "code",
      "metadata": {
        "colab": {
          "base_uri": "https://localhost:8080/",
          "height": 36
        },
        "id": "SBcTSEoXvPT6",
        "outputId": "be04eb14-c0f6-477a-eac7-84b9bf4c63f9"
      },
      "source": [
        "maior(3,3)"
      ],
      "execution_count": null,
      "outputs": [
        {
          "output_type": "execute_result",
          "data": {
            "application/vnd.google.colaboratory.intrinsic+json": {
              "type": "string"
            },
            "text/plain": [
              "'a e b são iguais'"
            ]
          },
          "metadata": {
            "tags": []
          },
          "execution_count": 4
        }
      ]
    },
    {
      "cell_type": "markdown",
      "metadata": {
        "id": "xEHoxFrhL0Kt"
      },
      "source": [
        "### Questão 2\n",
        "soma(lista,x): retorna o somatório dos valores passados pela lista. O argumento x deve ser opcional que, se passado, será somado ao resultado final."
      ]
    },
    {
      "cell_type": "code",
      "metadata": {
        "id": "67TAWtgWMGHU"
      },
      "source": [
        "def soma(lista,x=None) -> int:\n",
        "  res = 0\n",
        "  for i in lista:\n",
        "    res = res + i\n",
        "  if x == None:\n",
        "    return res\n",
        "  else:\n",
        "    return res + x\n",
        "\n",
        "lista = [4,8,1,2,5,7]"
      ],
      "execution_count": null,
      "outputs": []
    },
    {
      "cell_type": "code",
      "metadata": {
        "colab": {
          "base_uri": "https://localhost:8080/"
        },
        "id": "OaZ5IrgDwKKx",
        "outputId": "817e60e5-214b-4544-f05d-2e0a7ae88ddb"
      },
      "source": [
        "soma(lista,3)"
      ],
      "execution_count": null,
      "outputs": [
        {
          "output_type": "execute_result",
          "data": {
            "text/plain": [
              "30"
            ]
          },
          "metadata": {
            "tags": []
          },
          "execution_count": 6
        }
      ]
    },
    {
      "cell_type": "code",
      "metadata": {
        "id": "FJs11XeNwLLD",
        "colab": {
          "base_uri": "https://localhost:8080/"
        },
        "outputId": "365843c3-4869-43b2-ae19-ac95a0b89c1d"
      },
      "source": [
        "soma(lista)"
      ],
      "execution_count": null,
      "outputs": [
        {
          "output_type": "execute_result",
          "data": {
            "text/plain": [
              "27"
            ]
          },
          "metadata": {
            "tags": []
          },
          "execution_count": 7
        }
      ]
    },
    {
      "cell_type": "markdown",
      "metadata": {
        "id": "SHJOK5ZpNdxL"
      },
      "source": [
        "### Questão 3\n",
        "media(lista): Retorna a média dos valores passados pela lista."
      ]
    },
    {
      "cell_type": "code",
      "metadata": {
        "colab": {
          "base_uri": "https://localhost:8080/"
        },
        "id": "lEORHjB-NmYY",
        "outputId": "8aea748b-f527-4fdf-f9f5-936f3e46ad0e"
      },
      "source": [
        "def media(lista) -> float:\n",
        "  return soma(lista)/len(lista)\n",
        "\n",
        "media(lista)"
      ],
      "execution_count": null,
      "outputs": [
        {
          "output_type": "execute_result",
          "data": {
            "text/plain": [
              "4.5"
            ]
          },
          "metadata": {
            "tags": []
          },
          "execution_count": 8
        }
      ]
    },
    {
      "cell_type": "markdown",
      "metadata": {
        "id": "Uf1XBx3MSK0M"
      },
      "source": [
        "### Questão 4\n",
        "valores_iguais(lista1,lista2): retorna uma lista contendo os valores iguais entre as duas listas passadas como parâmetro"
      ]
    },
    {
      "cell_type": "code",
      "metadata": {
        "id": "ee20QdxMSRy4",
        "colab": {
          "base_uri": "https://localhost:8080/"
        },
        "outputId": "5f039814-7313-48d9-d941-4515eef93f95"
      },
      "source": [
        "lista_vi = []\n",
        "\n",
        "def valores_iguais(lista1,lista2) -> lista_vi:\n",
        "  for l1 in lista1:\n",
        "    for l2 in lista2:\n",
        "      if l1 == l2 and l1 not in lista_vi:\n",
        "        lista_vi.append(l1)\n",
        "  \n",
        "  return lista_vi\n",
        "\n",
        "lista1 = ['olá',5,2,'queijo','cenoura',9.7]\n",
        "lista2 = ['oi',5,1,'queijo','goiabada',8.7,'queijo',5]\n",
        "\n",
        "valores_iguais(lista1,lista2)    "
      ],
      "execution_count": null,
      "outputs": [
        {
          "output_type": "execute_result",
          "data": {
            "text/plain": [
              "[5, 'queijo']"
            ]
          },
          "metadata": {
            "tags": []
          },
          "execution_count": 9
        }
      ]
    },
    {
      "cell_type": "markdown",
      "metadata": {
        "id": "4jT__rcfJ9Sa"
      },
      "source": [
        "### Questão 5\n",
        "\n",
        "indice_prim_valor_igual(lista1,lista2): retorna a posição na lista1 do primeiro valor igual ao da lista2. Caso não exista, é retornado None."
      ]
    },
    {
      "cell_type": "code",
      "metadata": {
        "id": "48-TLT5xKDp4"
      },
      "source": [
        "def indice_prim_valor_igual(lista1,lista2) -> None:\n",
        "  for l2 in lista2:\n",
        "    for l1 in lista1:\n",
        "      if l1 == l2:\n",
        "        return lista1.index(l1)\n",
        "  return None"
      ],
      "execution_count": null,
      "outputs": []
    },
    {
      "cell_type": "code",
      "metadata": {
        "id": "rW21nflzMaBA"
      },
      "source": [
        "lista1 = ['olá',3,2,'bolo','cenoura',9.7]\n",
        "lista2 = ['oi',1,'queijo','goiabada',8.7,'queijo',5]\n",
        "\n",
        "indice_prim_valor_igual(lista1,lista2)"
      ],
      "execution_count": null,
      "outputs": []
    },
    {
      "cell_type": "code",
      "metadata": {
        "colab": {
          "base_uri": "https://localhost:8080/"
        },
        "id": "uqOoTQF2Mbvo",
        "outputId": "2738bef1-8d85-4b8a-9030-5ce7a44224fd"
      },
      "source": [
        "lista1 = ['olá',5,3,2,'queijo','cenoura',9.7]\n",
        "lista2 = ['oi',1,'queijo','goiabada',8.7,'queijo',5]\n",
        "\n",
        "indice_prim_valor_igual(lista1,lista2)"
      ],
      "execution_count": null,
      "outputs": [
        {
          "output_type": "execute_result",
          "data": {
            "text/plain": [
              "4"
            ]
          },
          "metadata": {
            "tags": []
          },
          "execution_count": 12
        }
      ]
    }
  ]
}